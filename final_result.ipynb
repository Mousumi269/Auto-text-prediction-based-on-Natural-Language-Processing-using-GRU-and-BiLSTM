{
 "cells": [
  {
   "cell_type": "code",
   "execution_count": 1,
   "metadata": {},
   "outputs": [
    {
     "name": "stdout",
     "output_type": "stream",
     "text": [
      "WARNING:tensorflow:From c:\\ProgramData\\anaconda3\\lib\\site-packages\\keras\\src\\losses.py:2976: The name tf.losses.sparse_softmax_cross_entropy is deprecated. Please use tf.compat.v1.losses.sparse_softmax_cross_entropy instead.\n",
      "\n"
     ]
    }
   ],
   "source": [
    "from random import randint\n",
    "from pickle import load\n",
    "from keras.models import load_model\n",
    "from keras.preprocessing.sequence import pad_sequences\n",
    "import io\n",
    "import os\n",
    "import numpy as np"
   ]
  },
  {
   "cell_type": "code",
   "execution_count": 2,
   "metadata": {},
   "outputs": [],
   "source": [
    "# load doc into memory\n",
    "def load_doc(filename):\n",
    "    with io.open(filename, 'r', encoding='utf8') as f:\n",
    "        text = f.read()\n",
    "    return text"
   ]
  },
  {
   "cell_type": "code",
   "execution_count": 3,
   "metadata": {},
   "outputs": [],
   "source": [
    "# generate a sequence \n",
    "def predict_word(model, token, seq_len, input, n):\n",
    "    result=[]\n",
    "    in_text=input\n",
    "    for _ in range(n):\n",
    "        encoded=token.texts_to_sequences([in_text])[0]\n",
    "        encoded=pad_sequences([encoded], maxlen=seq_len, truncating='pre') \n",
    "        now=model.predict(encoded, verbose=0) \n",
    "        now=np.argmax(now) \n",
    "        out_word=''\n",
    "        for word,index in token.word_index.items():\n",
    "            if index==now:\n",
    "                out_word=word\n",
    "                break\n",
    "        in_text+= ' ' +out_word\n",
    "        result.append(out_word)\n",
    "        if out_word=='।':\n",
    "            break\n",
    "    return ' '.join(result)"
   ]
  },
  {
   "cell_type": "code",
   "execution_count": 1,
   "metadata": {
    "scrolled": true
   },
   "outputs": [
    {
     "ename": "NameError",
     "evalue": "name 'load_model' is not defined",
     "output_type": "error",
     "traceback": [
      "\u001b[1;31m---------------------------------------------------------------------------\u001b[0m",
      "\u001b[1;31mNameError\u001b[0m                                 Traceback (most recent call last)",
      "Cell \u001b[1;32mIn[1], line 2\u001b[0m\n\u001b[0;32m      1\u001b[0m \u001b[38;5;66;03m# load the model\u001b[39;00m\n\u001b[1;32m----> 2\u001b[0m model_1 \u001b[38;5;241m=\u001b[39m \u001b[43mload_model\u001b[49m(\u001b[38;5;124mr\u001b[39m\u001b[38;5;124m'\u001b[39m\u001b[38;5;124mmodel_1_1.h5\u001b[39m\u001b[38;5;124m'\u001b[39m)\n\u001b[0;32m      3\u001b[0m model_2 \u001b[38;5;241m=\u001b[39m load_model(\u001b[38;5;124mr\u001b[39m\u001b[38;5;124m'\u001b[39m\u001b[38;5;124mmodel_2_1.h5\u001b[39m\u001b[38;5;124m'\u001b[39m)\n\u001b[0;32m      4\u001b[0m model_3 \u001b[38;5;241m=\u001b[39m load_model(\u001b[38;5;124mr\u001b[39m\u001b[38;5;124m'\u001b[39m\u001b[38;5;124mmodel_3_1.h5\u001b[39m\u001b[38;5;124m'\u001b[39m)\n",
      "\u001b[1;31mNameError\u001b[0m: name 'load_model' is not defined"
     ]
    }
   ],
   "source": [
    "# load the model\n",
    "model_1=load_model(r'model_1_1.h5')\n"
   ]
  },
  {
   "cell_type": "code",
   "execution_count": 5,
   "metadata": {},
   "outputs": [],
   "source": [
    "# load the tokenizer\n",
    "token_1=load(open(r'token_1_1.pkl','rb'))"
   ]
  },
  {
   "cell_type": "code",
   "execution_count": 3,
   "metadata": {},
   "outputs": [
    {
     "ename": "NameError",
     "evalue": "name 'model_1' is not defined",
     "output_type": "error",
     "traceback": [
      "\u001b[1;31m---------------------------------------------------------------------------\u001b[0m",
      "\u001b[1;31mNameError\u001b[0m                                 Traceback (most recent call last)",
      "Cell \u001b[1;32mIn[3], line 10\u001b[0m\n\u001b[0;32m      7\u001b[0m seq_len \u001b[38;5;241m=\u001b[39m word\n\u001b[0;32m      9\u001b[0m \u001b[38;5;28;01mif\u001b[39;00m word \u001b[38;5;241m==\u001b[39m \u001b[38;5;241m1\u001b[39m:\n\u001b[1;32m---> 10\u001b[0m     model \u001b[38;5;241m=\u001b[39m \u001b[43mmodel_1\u001b[49m\n\u001b[0;32m     11\u001b[0m     token \u001b[38;5;241m=\u001b[39m token_1\n\u001b[0;32m     12\u001b[0m \u001b[38;5;28;01melif\u001b[39;00m word \u001b[38;5;241m==\u001b[39m \u001b[38;5;241m2\u001b[39m:\n",
      "\u001b[1;31mNameError\u001b[0m: name 'model_1' is not defined"
     ]
    }
   ],
   "source": [
    "input='আমি'\n",
    "word=len(input.split())\n",
    "if word > 5:\n",
    "    word = 1\n",
    "    input = ' '.join(input.split())\n",
    "seq_len = word\n",
    "if word == 1:\n",
    "    model = model_1\n",
    "    token = token_1\n",
    "elif word == 2:\n",
    "    model = model_2\n",
    "    toke = token_2\n",
    "elif word == 3:\n",
    "    model = model_3\n",
    "    token = token_3\n",
    "elif word == 4:\n",
    "    model = model_4\n",
    "    token = token_4\n",
    "elif word == 5:\n",
    "    model = model_5\n",
    "    token = token_5\n",
    "print('Input words:\\n', input, '\\n')\n",
    "\n",
    "# Predict next word\n",
    "print('Predicted next word:')\n",
    "new_word=predict_word(model, token, seq_len, input, 1)\n",
    "print(new_word, end=' ')\n",
    "\n",
    "# Predict full sentence\n",
    "print('\\n\\nPredicted full sentence:')\n",
    "sentence=predict_word(model, token, seq_len, input, 15)\n",
    "print(input, sentence)  "
   ]
  }
 ],
 "metadata": {
  "kernelspec": {
   "display_name": "Python 3",
   "language": "python",
   "name": "python3"
  },
  "language_info": {
   "codemirror_mode": {
    "name": "ipython",
    "version": 3
   },
   "file_extension": ".py",
   "mimetype": "text/x-python",
   "name": "python",
   "nbconvert_exporter": "python",
   "pygments_lexer": "ipython3",
   "version": "3.10.9"
  }
 },
 "nbformat": 4,
 "nbformat_minor": 2
}
