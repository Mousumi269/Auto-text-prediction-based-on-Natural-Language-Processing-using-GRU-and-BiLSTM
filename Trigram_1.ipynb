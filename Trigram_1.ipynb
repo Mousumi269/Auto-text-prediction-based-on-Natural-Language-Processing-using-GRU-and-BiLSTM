{
  "cells": [
    {
      "cell_type": "code",
      "execution_count": null,
      "metadata": {
        "colab": {},
        "colab_type": "code",
        "id": "lyYGouBV8r0y"
      },
      "outputs": [],
      "source": [
        "from numpy import array\n",
        "from keras.callbacks import CSVLogger\n",
        "import numpy as np\n",
        "from pickle import dump\n",
        "from keras.preprocessing.text import Tokenizer\n",
        "from keras.utils import to_categorical\n",
        "from keras.models import Sequential\n",
        "from keras.layers import Dense\n",
        "from keras.layers import Bidirectional\n",
        "from keras.layers import LSTM\n",
        "from keras.layers import Dropout\n",
        "from keras.layers import GRU\n",
        "from keras.layers import Embedding\n",
        "import io"
      ]
    },
    {
      "cell_type": "code",
      "execution_count": null,
      "metadata": {
        "colab": {},
        "colab_type": "code",
        "id": "Lsns_Dh-8r03"
      },
      "outputs": [],
      "source": [
        "# load into memory\n",
        "def load_file(filename):\n",
        "    with io.open(filename, 'r', encoding='utf8') as f:\n",
        "        text = f.read()\n",
        "    return text\n",
        "in_filename = r'Trigram_data_3_1.txt'\n",
        "dataset = load_file(in_filename)\n",
        "Data_lines = dataset.split('\\n')"
      ]
    },
    {
      "cell_type": "code",
      "execution_count": 5,
      "metadata": {
        "colab": {
          "base_uri": "https://localhost:8080/",
          "height": 1000
        },
        "colab_type": "code",
        "id": "igPM6wMM8r06",
        "outputId": "661a8038-e6a3-41b8-b31c-22243c097c7d"
      },
      "outputs": [
        {
          "ename": "NameError",
          "evalue": "name 'Data_lines' is not defined",
          "output_type": "error",
          "traceback": [
            "\u001b[1;31m---------------------------------------------------------------------------\u001b[0m",
            "\u001b[1;31mNameError\u001b[0m                                 Traceback (most recent call last)",
            "Cell \u001b[1;32mIn[5], line 1\u001b[0m\n\u001b[1;32m----> 1\u001b[0m \u001b[43mData_lines\u001b[49m\n",
            "\u001b[1;31mNameError\u001b[0m: name 'Data_lines' is not defined"
          ]
        }
      ],
      "source": [
        "Data_lines"
      ]
    },
    {
      "cell_type": "code",
      "execution_count": null,
      "metadata": {
        "colab": {},
        "colab_type": "code",
        "id": "Bom554K08r09"
      },
      "outputs": [],
      "source": [
        "# integer encode sequences of words\n",
        "token = Tokenizer()\n",
        "token.fit_on_texts(Data_lines) \n",
        "seq=token.texts_to_sequences(Data_lines)\n",
        "word_size=len(token.word_index)+1\n",
        "word_size"
      ]
    },
    {
      "cell_type": "code",
      "execution_count": 4,
      "metadata": {
        "colab": {
          "base_uri": "https://localhost:8080/",
          "height": 1000
        },
        "colab_type": "code",
        "id": "uegsyWcX8r1A",
        "outputId": "35b1d54a-2504-4463-ccfa-703714c29617"
      },
      "outputs": [
        {
          "ename": "NameError",
          "evalue": "name 'seq' is not defined",
          "output_type": "error",
          "traceback": [
            "\u001b[1;31m---------------------------------------------------------------------------\u001b[0m",
            "\u001b[1;31mNameError\u001b[0m                                 Traceback (most recent call last)",
            "Cell \u001b[1;32mIn[4], line 1\u001b[0m\n\u001b[1;32m----> 1\u001b[0m \u001b[43mseq\u001b[49m\n",
            "\u001b[1;31mNameError\u001b[0m: name 'seq' is not defined"
          ]
        }
      ],
      "source": [
        "seq"
      ]
    },
    {
      "cell_type": "code",
      "execution_count": null,
      "metadata": {
        "colab": {},
        "colab_type": "code",
        "id": "7D_1IsYK8r1D"
      },
      "outputs": [],
      "source": [
        "length = 4"
      ]
    },
    {
      "cell_type": "code",
      "execution_count": 3,
      "metadata": {
        "colab": {
          "base_uri": "https://localhost:8080/",
          "height": 68
        },
        "colab_type": "code",
        "id": "g9PLu5J08r1L",
        "outputId": "77a2a5d5-2734-47e8-af9f-a2e688a3683e"
      },
      "outputs": [
        {
          "ename": "NameError",
          "evalue": "name 'array' is not defined",
          "output_type": "error",
          "traceback": [
            "\u001b[1;31m---------------------------------------------------------------------------\u001b[0m",
            "\u001b[1;31mNameError\u001b[0m                                 Traceback (most recent call last)",
            "Cell \u001b[1;32mIn[3], line 1\u001b[0m\n\u001b[1;32m----> 1\u001b[0m seq \u001b[38;5;241m=\u001b[39m \u001b[43marray\u001b[49m(seq, dtype\u001b[38;5;241m=\u001b[39m\u001b[38;5;28mobject\u001b[39m)\n\u001b[0;32m      2\u001b[0m seq\n",
            "\u001b[1;31mNameError\u001b[0m: name 'array' is not defined"
          ]
        }
      ],
      "source": [
        "seq = array(seq, dtype=object)\n",
        "seq"
      ]
    },
    {
      "cell_type": "code",
      "execution_count": 1,
      "metadata": {
        "colab": {
          "base_uri": "https://localhost:8080/",
          "height": 1000
        },
        "colab_type": "code",
        "id": "Mjde5BBC8r1O",
        "outputId": "78772e91-6e38-4554-fad0-fd799a5c4a76"
      },
      "outputs": [
        {
          "ename": "NameError",
          "evalue": "name 'seq' is not defined",
          "output_type": "error",
          "traceback": [
            "\u001b[1;31m---------------------------------------------------------------------------\u001b[0m",
            "\u001b[1;31mNameError\u001b[0m                                 Traceback (most recent call last)",
            "Cell \u001b[1;32mIn[1], line 4\u001b[0m\n\u001b[0;32m      2\u001b[0m h\u001b[38;5;241m=\u001b[39m\u001b[38;5;241m0\u001b[39m\n\u001b[0;32m      3\u001b[0m \u001b[38;5;28;01mwhile\u001b[39;00m(a\u001b[38;5;241m!=\u001b[39m\u001b[38;5;241m0\u001b[39m):\n\u001b[1;32m----> 4\u001b[0m     limit \u001b[38;5;241m=\u001b[39m \u001b[43mseq\u001b[49m\u001b[38;5;241m.\u001b[39msize\n\u001b[0;32m      5\u001b[0m     d \u001b[38;5;241m=\u001b[39m[]\n\u001b[0;32m      6\u001b[0m     a\u001b[38;5;241m=\u001b[39m\u001b[38;5;241m0\u001b[39m\n",
            "\u001b[1;31mNameError\u001b[0m: name 'seq' is not defined"
          ]
        }
      ],
      "source": [
        "a=1\n",
        "h=0\n",
        "while(a!=0):\n",
        "    limit=seq.size\n",
        "    d =[]\n",
        "    a=0\n",
        "    for i in range(0 , limit):\n",
        "        l=len(seq[i])\n",
        "        if(l!=length):\n",
        "            print(seq[i])\n",
        "            seq = np.delete(seq, i, 0)\n",
        "            \n",
        "            a=1\n",
        "            print(\"error in \", i)\n",
        "            print(\"Deleting\") \n",
        "            h = h+1\n",
        "            break        \n",
        "print(\"Total : \", h)     "
      ]
    },
    {
      "cell_type": "code",
      "execution_count": 2,
      "metadata": {
        "colab": {
          "base_uri": "https://localhost:8080/",
          "height": 136
        },
        "colab_type": "code",
        "id": "mhsbY4xP8r1V",
        "outputId": "e83ebba2-0510-46a2-dae7-c7820c4497a2"
      },
      "outputs": [
        {
          "ename": "NameError",
          "evalue": "name 'np' is not defined",
          "output_type": "error",
          "traceback": [
            "\u001b[1;31m---------------------------------------------------------------------------\u001b[0m",
            "\u001b[1;31mNameError\u001b[0m                                 Traceback (most recent call last)",
            "Cell \u001b[1;32mIn[2], line 1\u001b[0m\n\u001b[1;32m----> 1\u001b[0m seq \u001b[38;5;241m=\u001b[39m \u001b[43mnp\u001b[49m\u001b[38;5;241m.\u001b[39marray(seq\u001b[38;5;241m.\u001b[39mtolist())\n\u001b[0;32m      2\u001b[0m seq\n",
            "\u001b[1;31mNameError\u001b[0m: name 'np' is not defined"
          ]
        }
      ],
      "source": [
        "seq=np.array(seq.tolist())\n",
        "seq"
      ]
    },
    {
      "cell_type": "code",
      "execution_count": 55,
      "metadata": {
        "colab": {
          "base_uri": "https://localhost:8080/",
          "height": 34
        },
        "colab_type": "code",
        "id": "HS7qQMBU8r1X",
        "outputId": "587291a7-2a3b-4061-909b-a87a84f7a05d"
      },
      "outputs": [
        {
          "data": {
            "text/plain": [
              "(58585, 4)"
            ]
          },
          "execution_count": 55,
          "metadata": {
            "tags": []
          },
          "output_type": "execute_result"
        }
      ],
      "source": [
        "seq.shape"
      ]
    },
    {
      "cell_type": "code",
      "execution_count": null,
      "metadata": {
        "colab": {},
        "colab_type": "code",
        "id": "j6OKjzig8r1a"
      },
      "outputs": [],
      "source": [
        "# separate into input and output\n",
        "seq = array(seq)\n",
        "X, y = seq[:,:-1], seq[:,-1]\n",
        "y = to_categorical(y, num_classes=word_size)\n",
        "seq_len = X.shape[1]"
      ]
    },
    {
      "cell_type": "code",
      "execution_count": null,
      "metadata": {
        "colab": {},
        "colab_type": "code",
        "id": "6lSbqcCS8r1g"
      },
      "outputs": [],
      "source": [
        "# Define data generator\n",
        "def data_generator(X_data, y_data, batch_size):\n",
        "    num_batches=len(X_data) // batch_size\n",
        "    while True:\n",
        "        for i in range(num_batches):\n",
        "            start_idx=i*batch_size\n",
        "            end_idx=(i+1)*batch_size\n",
        "            yield X_data[start_idx:end_idx], y_data[start_idx:end_idx]\n",
        "\n",
        "# Define model\n",
        "model = Sequential()\n",
        "model.add(Embedding(word_size, 100, input_length=seq_len))\n",
        "model.add(Bidirectional(LSTM(100, return_sequences=True)))\n",
        "model.add(GRU(256, return_sequences=True))\n",
        "model.add(Dropout(0.1))\n",
        "model.add(GRU(256))\n",
        "model.add(Dense(256, activation='relu'))\n",
        "model.add(Dense(word_size, activation='softmax')) \n",
        "print(model.summary())\n",
        "model.compile(loss='categorical_crossentropy', optimizer='adam', metrics=['accuracy']\n",
        "csv_logger=CSVLogger('data_3_1.log')\n",
        "batch_size=128\n",
        "epochs=150\n",
        "train_generator=data_generator(X,y,batch_size)\n",
        "history=model.fit(train_generator, steps_per_epoch=len(X) // batch_size, epochs=epochs, callbacks=[csv_logger])"
      ]
    },
    {
      "cell_type": "code",
      "execution_count": null,
      "metadata": {
        "colab": {},
        "colab_type": "code",
        "id": "AfVHZk5f8r1i"
      },
      "outputs": [],
      "source": [
        "# save the model to file\n",
        "model.save('model_3_1.h5')\n",
        "dump(token, open(r'token_3_1.pkl', 'wb'))"
      ]
    },
    {
      "cell_type": "code",
      "execution_count": null,
      "metadata": {},
      "outputs": [],
      "source": [
        "# draw graph\n",
        "from matplotlib import pyplot\n",
        "pyplot.plot(history.history['loss'])\n",
        "pyplot.plot(history.history['accuracy'])\n",
        "pyplot.title('model loss and accuracy ')\n",
        "pyplot.xlabel('epoch')\n",
        "pyplot.legend(['loss', 'accuracy'], loc='upper right')\n",
        "pyplot.show()"
      ]
    }
  ],
  "metadata": {
    "accelerator": "GPU",
    "colab": {
      "name": "Version_Three_Thesis work_Part_TWO_3-1.ipynb",
      "provenance": [],
      "version": "0.3.2"
    },
    "kernelspec": {
      "display_name": "Python 3",
      "name": "python3"
    },
    "language_info": {
      "codemirror_mode": {
        "name": "ipython",
        "version": 3
      },
      "file_extension": ".py",
      "mimetype": "text/x-python",
      "name": "python",
      "nbconvert_exporter": "python",
      "pygments_lexer": "ipython3",
      "version": "3.10.9"
    }
  },
  "nbformat": 4,
  "nbformat_minor": 0
}
