{
 "cells": [
  {
   "cell_type": "code",
   "execution_count": 1,
   "metadata": {
    "colab": {},
    "colab_type": "code",
    "id": "3GDe6R4A_GeO"
   },
   "outputs": [
    {
     "name": "stdout",
     "output_type": "stream",
     "text": [
      "WARNING:tensorflow:From c:\\ProgramData\\anaconda3\\lib\\site-packages\\keras\\src\\losses.py:2976: The name tf.losses.sparse_softmax_cross_entropy is deprecated. Please use tf.compat.v1.losses.sparse_softmax_cross_entropy instead.\n",
      "\n"
     ]
    }
   ],
   "source": [
    "from numpy import array\n",
    "import keras\n",
    "from keras.callbacks import CSVLogger ,History\n",
    "history = History()\n",
    "import numpy as np\n",
    "import matplotlib.pyplot as plt\n",
    "from pickle import dump\n",
    "from keras.preprocessing.text import Tokenizer\n",
    "from keras.utils import to_categorical\n",
    "from keras.models import Sequential\n",
    "from keras.layers import Dense\n",
    "from keras.layers import LSTM\n",
    "from keras.layers import Dropout\n",
    "from keras.layers import Bidirectional\n",
    "from keras.layers import GRU\n",
    "from keras.layers import Embedding\n",
    "import io"
   ]
  },
  {
   "cell_type": "code",
   "execution_count": null,
   "metadata": {
    "colab": {},
    "colab_type": "code",
    "id": "QOwykc7c_GeT"
   },
   "outputs": [],
   "source": [
    "# load into memory\n",
    "def load_file(filename):\n",
    "    with io.open(filename, 'r', encoding='utf8') as f:\n",
    "        text = f.read()\n",
    "    return text\n",
    "in_filename = r'5_gram_data_5_1.txt'\n",
    "dataset = load_file(in_filename)\n",
    "Data_lines = dataset.split('\\n')"
   ]
  },
  {
   "cell_type": "code",
   "execution_count": 7,
   "metadata": {
    "colab": {
     "base_uri": "https://localhost:8080/",
     "height": 1000
    },
    "colab_type": "code",
    "id": "K_fCWYdU_GeW",
    "outputId": "b561a388-19c8-43ae-bf0c-26d1012b3bb5"
   },
   "outputs": [
    {
     "ename": "NameError",
     "evalue": "name 'Data_lines' is not defined",
     "output_type": "error",
     "traceback": [
      "\u001b[1;31m---------------------------------------------------------------------------\u001b[0m",
      "\u001b[1;31mNameError\u001b[0m                                 Traceback (most recent call last)",
      "Cell \u001b[1;32mIn[7], line 1\u001b[0m\n\u001b[1;32m----> 1\u001b[0m \u001b[43mData_lines\u001b[49m\n",
      "\u001b[1;31mNameError\u001b[0m: name 'Data_lines' is not defined"
     ]
    }
   ],
   "source": [
    "Data_lines"
   ]
  },
  {
   "cell_type": "code",
   "execution_count": null,
   "metadata": {
    "colab": {},
    "colab_type": "code",
    "id": "YywzORlx_Gec"
   },
   "outputs": [],
   "source": [
    "# integer encode sequences of words\n",
    "token = Tokenizer()\n",
    "token.fit_on_texts(Data_lines) \n",
    "seq=token.texts_to_sequences(Data_lines) \n",
    "word_size=len(token.word_index)+1\n",
    "word_size"
   ]
  },
  {
   "cell_type": "code",
   "execution_count": 6,
   "metadata": {
    "colab": {
     "base_uri": "https://localhost:8080/",
     "height": 1000
    },
    "colab_type": "code",
    "id": "9yKyFBqi_Gef",
    "outputId": "34f38396-7cbb-4ed2-aee3-edcdaeac82c8"
   },
   "outputs": [
    {
     "ename": "NameError",
     "evalue": "name 'seq' is not defined",
     "output_type": "error",
     "traceback": [
      "\u001b[1;31m---------------------------------------------------------------------------\u001b[0m",
      "\u001b[1;31mNameError\u001b[0m                                 Traceback (most recent call last)",
      "Cell \u001b[1;32mIn[6], line 1\u001b[0m\n\u001b[1;32m----> 1\u001b[0m \u001b[43mseq\u001b[49m\n",
      "\u001b[1;31mNameError\u001b[0m: name 'seq' is not defined"
     ]
    }
   ],
   "source": [
    "seq"
   ]
  },
  {
   "cell_type": "code",
   "execution_count": null,
   "metadata": {
    "colab": {},
    "colab_type": "code",
    "id": "9C_f3rgo_Gei"
   },
   "outputs": [],
   "source": [
    "length = 6"
   ]
  },
  {
   "cell_type": "code",
   "execution_count": 5,
   "metadata": {
    "colab": {
     "base_uri": "https://localhost:8080/",
     "height": 102
    },
    "colab_type": "code",
    "id": "rVz0CrPU_Gen",
    "outputId": "56eaa337-8b2b-4ac8-e0ff-94242cfdd32d"
   },
   "outputs": [
    {
     "ename": "NameError",
     "evalue": "name 'seq' is not defined",
     "output_type": "error",
     "traceback": [
      "\u001b[1;31m---------------------------------------------------------------------------\u001b[0m",
      "\u001b[1;31mNameError\u001b[0m                                 Traceback (most recent call last)",
      "Cell \u001b[1;32mIn[5], line 1\u001b[0m\n\u001b[1;32m----> 1\u001b[0m seq \u001b[38;5;241m=\u001b[39m array(\u001b[43mseq\u001b[49m, dtype\u001b[38;5;241m=\u001b[39m\u001b[38;5;28mobject\u001b[39m)\n\u001b[0;32m      2\u001b[0m seq\n",
      "\u001b[1;31mNameError\u001b[0m: name 'seq' is not defined"
     ]
    }
   ],
   "source": [
    "seq=array(seq, dtype=object)\n",
    "seq"
   ]
  },
  {
   "cell_type": "code",
   "execution_count": 4,
   "metadata": {
    "colab": {
     "base_uri": "https://localhost:8080/",
     "height": 1000
    },
    "colab_type": "code",
    "id": "U_sF2OWC_Geq",
    "outputId": "52b8c55d-57df-411a-e9ba-f5df32862e93"
   },
   "outputs": [
    {
     "ename": "NameError",
     "evalue": "name 'seq' is not defined",
     "output_type": "error",
     "traceback": [
      "\u001b[1;31m---------------------------------------------------------------------------\u001b[0m",
      "\u001b[1;31mNameError\u001b[0m                                 Traceback (most recent call last)",
      "Cell \u001b[1;32mIn[4], line 4\u001b[0m\n\u001b[0;32m      2\u001b[0m h\u001b[38;5;241m=\u001b[39m\u001b[38;5;241m0\u001b[39m\n\u001b[0;32m      3\u001b[0m \u001b[38;5;28;01mwhile\u001b[39;00m(a\u001b[38;5;241m!=\u001b[39m\u001b[38;5;241m0\u001b[39m):\n\u001b[1;32m----> 4\u001b[0m     limit \u001b[38;5;241m=\u001b[39m \u001b[43mseq\u001b[49m\u001b[38;5;241m.\u001b[39msize\n\u001b[0;32m      5\u001b[0m     d \u001b[38;5;241m=\u001b[39m[]\n\u001b[0;32m      6\u001b[0m     a\u001b[38;5;241m=\u001b[39m\u001b[38;5;241m0\u001b[39m\n",
      "\u001b[1;31mNameError\u001b[0m: name 'seq' is not defined"
     ]
    }
   ],
   "source": [
    "a=1\n",
    "h=0\n",
    "while(a!=0):\n",
    "    limit=seq.size\n",
    "    d =[]\n",
    "    a=0\n",
    "    for i in range(0 , limit):\n",
    "        l=len(seq[i])\n",
    "        if(l!=length):\n",
    "            print(seq[i])\n",
    "            seq = np.delete(seq, i, 0)#deletes the row at index i from the sequences array along the row axis (axis 0)\n",
    "            \n",
    "            a=1\n",
    "            print(\"error in \", i)\n",
    "            print(\"Deleting\") \n",
    "            h = h+1\n",
    "            break        \n",
    "print(\"Total : \", h)     "
   ]
  },
  {
   "cell_type": "code",
   "execution_count": 3,
   "metadata": {
    "colab": {
     "base_uri": "https://localhost:8080/",
     "height": 136
    },
    "colab_type": "code",
    "id": "cJjt5jxM_Gez",
    "outputId": "43e4f40b-59b3-4e81-8412-a509bb7ef5c0"
   },
   "outputs": [
    {
     "ename": "NameError",
     "evalue": "name 'seq' is not defined",
     "output_type": "error",
     "traceback": [
      "\u001b[1;31m---------------------------------------------------------------------------\u001b[0m",
      "\u001b[1;31mNameError\u001b[0m                                 Traceback (most recent call last)",
      "Cell \u001b[1;32mIn[3], line 1\u001b[0m\n\u001b[1;32m----> 1\u001b[0m seq \u001b[38;5;241m=\u001b[39m np\u001b[38;5;241m.\u001b[39marray(\u001b[43mseq\u001b[49m\u001b[38;5;241m.\u001b[39mtolist())\n\u001b[0;32m      2\u001b[0m seq\n",
      "\u001b[1;31mNameError\u001b[0m: name 'seq' is not defined"
     ]
    }
   ],
   "source": [
    "seq=np.array(seq.tolist())\n",
    "seq"
   ]
  },
  {
   "cell_type": "code",
   "execution_count": 80,
   "metadata": {
    "colab": {
     "base_uri": "https://localhost:8080/",
     "height": 34
    },
    "colab_type": "code",
    "id": "b_xcyqKb_Ge1",
    "outputId": "4b331683-c5be-4d94-a7a1-e9608fbddda5"
   },
   "outputs": [
    {
     "data": {
      "text/plain": [
       "(57842, 6)"
      ]
     },
     "execution_count": 80,
     "metadata": {
      "tags": []
     },
     "output_type": "execute_result"
    }
   ],
   "source": [
    "seq.shape"
   ]
  },
  {
   "cell_type": "code",
   "execution_count": null,
   "metadata": {
    "colab": {},
    "colab_type": "code",
    "id": "08Ngeabb_Ge4"
   },
   "outputs": [],
   "source": [
    "# separate into input and output\n",
    "seq = array(seq)\n",
    "X, y = seq[:,:-1], seq[:,-1]\n",
    "y = to_categorical(y, num_classes=word_size)\n",
    "seq_len = X.shape[1]"
   ]
  },
  {
   "cell_type": "code",
   "execution_count": 2,
   "metadata": {
    "colab": {
     "base_uri": "https://localhost:8080/",
     "height": 1000
    },
    "colab_type": "code",
    "id": "J8chVrse_Ge8",
    "outputId": "eaa66a53-c1ae-4fe5-8d74-cecc54ea6141"
   },
   "outputs": [
    {
     "name": "stdout",
     "output_type": "stream",
     "text": [
      "WARNING:tensorflow:From c:\\ProgramData\\anaconda3\\lib\\site-packages\\keras\\src\\backend.py:873: The name tf.get_default_graph is deprecated. Please use tf.compat.v1.get_default_graph instead.\n",
      "\n"
     ]
    },
    {
     "ename": "NameError",
     "evalue": "name 'word_size' is not defined",
     "output_type": "error",
     "traceback": [
      "\u001b[1;31m---------------------------------------------------------------------------\u001b[0m",
      "\u001b[1;31mNameError\u001b[0m                                 Traceback (most recent call last)",
      "Cell \u001b[1;32mIn[2], line 12\u001b[0m\n\u001b[0;32m     10\u001b[0m \u001b[38;5;66;03m# Define model\u001b[39;00m\n\u001b[0;32m     11\u001b[0m model \u001b[38;5;241m=\u001b[39m Sequential()\n\u001b[1;32m---> 12\u001b[0m model\u001b[38;5;241m.\u001b[39madd(Embedding(\u001b[43mword_size\u001b[49m, \u001b[38;5;241m100\u001b[39m, input_length\u001b[38;5;241m=\u001b[39mseq_len))\u001b[38;5;66;03m#converting integer-encoded words into dense vectors of fixed size \u001b[39;00m\n\u001b[0;32m     13\u001b[0m model\u001b[38;5;241m.\u001b[39madd(Bidirectional(LSTM(\u001b[38;5;241m100\u001b[39m, return_sequences\u001b[38;5;241m=\u001b[39m\u001b[38;5;28;01mTrue\u001b[39;00m)))\n\u001b[0;32m     14\u001b[0m model\u001b[38;5;241m.\u001b[39madd(GRU(\u001b[38;5;241m256\u001b[39m, return_sequences\u001b[38;5;241m=\u001b[39m\u001b[38;5;28;01mTrue\u001b[39;00m))\n",
      "\u001b[1;31mNameError\u001b[0m: name 'word_size' is not defined"
     ]
    }
   ],
   "source": [
    "# Define data generator\n",
    "def data_generator(X_data, y_data, batch_size):\n",
    "    num_batches=len(X_data) // batch_size\n",
    "    while True:\n",
    "        for i in range(num_batches):\n",
    "            start_idx=i*batch_size\n",
    "            end_idx=(i+1)*batch_size\n",
    "            yield X_data[start_idx:end_idx], y_data[start_idx:end_idx]\n",
    "\n",
    "# Define model\n",
    "model = Sequential()\n",
    "model.add(Embedding(word_size, 100, input_length=seq_len))\n",
    "model.add(Bidirectional(LSTM(100, return_sequences=True)))\n",
    "model.add(GRU(256, return_sequences=True))\n",
    "model.add(Dropout(0.1))\n",
    "model.add(GRU(256))\n",
    "model.add(Dense(256, activation='relu'))\n",
    "model.add(Dense(word_size, activation='softmax'))\n",
    "print(model.summary())\n",
    "model.compile(loss='categorical_crossentropy', optimizer='adam', metrics=['accuracy'])\n",
    "csv_logger=CSVLogger('data_5_1.log')\n",
    "batch_size=128\n",
    "epochs=150\n",
    "train_generator=data_generator(X,y,batch_size)\n",
    "history=model.fit(train_generator, steps_per_epoch=len(X) // batch_size, epochs=epochs, callbacks=[csv_logger])"
   ]
  },
  {
   "cell_type": "code",
   "execution_count": null,
   "metadata": {
    "colab": {},
    "colab_type": "code",
    "id": "ue3EZpNX_Ge_"
   },
   "outputs": [],
   "source": [
    "# save the model to file\n",
    "model.save('model_5_1.h5')\n",
    "dump(token, open(r'token_5_1.pkl', 'wb'))"
   ]
  },
  {
   "cell_type": "code",
   "execution_count": null,
   "metadata": {},
   "outputs": [],
   "source": [
    "# draw graph\n",
    "from matplotlib import pyplot\n",
    "pyplot.plot(history.history['loss'])\n",
    "pyplot.plot(history.history['accuracy'])\n",
    "pyplot.title('model loss and accuracy ')\n",
    "pyplot.xlabel('epoch')\n",
    "pyplot.legend(['loss', 'accuracy'], loc='upper right')\n",
    "pyplot.show()"
   ]
  }
 ],
 "metadata": {
  "accelerator": "GPU",
  "colab": {
   "name": "Version_Three_Thesis work_Part_TWO_5-1.ipynb",
   "provenance": [],
   "version": "0.3.2"
  },
  "kernelspec": {
   "display_name": "Python 3",
   "language": "python",
   "name": "python3"
  },
  "language_info": {
   "codemirror_mode": {
    "name": "ipython",
    "version": 3
   },
   "file_extension": ".py",
   "mimetype": "text/x-python",
   "name": "python",
   "nbconvert_exporter": "python",
   "pygments_lexer": "ipython3",
   "version": "3.10.9"
  }
 },
 "nbformat": 4,
 "nbformat_minor": 1
}
