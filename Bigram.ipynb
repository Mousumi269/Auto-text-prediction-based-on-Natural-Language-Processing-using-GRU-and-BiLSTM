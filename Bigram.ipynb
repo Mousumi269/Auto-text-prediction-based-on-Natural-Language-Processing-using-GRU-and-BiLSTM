{
 "cells": [
  {
   "cell_type": "code",
   "execution_count": 13,
   "metadata": {},
   "outputs": [],
   "source": [
    "import string\n",
    "import io\n",
    "import codecs"
   ]
  },
  {
   "cell_type": "code",
   "execution_count": 1,
   "metadata": {},
   "outputs": [],
   "source": [
    "def cleaning(dataset):\n",
    "    replacements={'?': ' ? ', '।': ' । ', ',': ' । ', '-': ' । ', '(': ' । ', ')': ' । ', '{': ' । ', '}': ' । ', '[': ' । ', ']': ' । ', '*': ' ', '^': ' ', '#': ' ', '~': ' ', '`': ' ', '/': ' ', '_': ' ', '’': ' ', '‘': ' ', '.': ' । '}\n",
    "    for char, replacement in replacements.items():\n",
    "        dataset=dataset.replace(char, replacement)\n",
    "    tokens=dataset.split()\n",
    "    tokens=[word.lower() for word in tokens]\n",
    "    return tokens"
   ]
  },
  {
   "cell_type": "code",
   "execution_count": 15,
   "metadata": {},
   "outputs": [],
   "source": [
    "# load into memory\n",
    "def load_file(filename):\n",
    "    with io.open(filename,'r', encoding='utf8') as f:\n",
    "        text=f.read()\n",
    "    return text"
   ]
  },
  {
   "cell_type": "code",
   "execution_count": 16,
   "metadata": {},
   "outputs": [
    {
     "name": "stdout",
     "output_type": "stream",
     "text": [
      "বাংলাদেশ জামায়াতে ইসলামীর ভারপ্রাপ্ত আমির অধ্যাপক \n"
     ]
    }
   ],
   "source": [
    "# load data\n",
    "in_filename=r'dailynayadiganta_politics_data.txt'\n",
    "dataset=load_file(in_filename)\n",
    "print(dataset[:50])"
   ]
  },
  {
   "cell_type": "code",
   "execution_count": 18,
   "metadata": {},
   "outputs": [
    {
     "name": "stdout",
     "output_type": "stream",
     "text": [
      "['বাংলাদেশ', 'জামায়াতে', 'ইসলামীর', 'ভারপ্রাপ্ত', 'আমির', 'অধ্যাপক', 'মুজিবুর', 'রহমান', 'বলেছেন', '।', 'দুনিয়া', 'হচ্ছে', 'আখেরাতের', 'শষ্যক্ষেত্র', '।', 'আল্লাহ', 'রাব্বুল', 'আলামীন', 'আমাদেরকে', 'দুনিয়ায়', 'পাথেয়', 'সংগ্রহের', 'মাধ্যমে', 'আখেরাতের', 'ঘর', 'বানানোর', 'জন্য', 'তাগিদ', 'দিয়েছেন', '।', 'তবে', 'তা', 'দুনিয়াকে', 'বাদ', 'দিয়ে', 'নয়', '।', 'ইসলামের', 'মূলমন্ত্রই', 'হচ্ছে', 'ইহকালীন', 'কল্যাণ', 'ও', 'পরকালীন', 'মুক্তি', '।', 'মূলত', '।', 'জামায়াত', 'একটি']\n",
      "Total Tokens: 282147\n",
      "Unique Tokens: 20050\n"
     ]
    }
   ],
   "source": [
    "# clean data\n",
    "tokens=cleaning(dataset)\n",
    "print(tokens[:50])\n",
    "print('Total Tokens: %d' % len(tokens))\n",
    "print('Unique Tokens: %d' % len(set(tokens)))"
   ]
  },
  {
   "cell_type": "code",
   "execution_count": 19,
   "metadata": {},
   "outputs": [
    {
     "name": "stdout",
     "output_type": "stream",
     "text": [
      "Total Seq: 282144\n"
     ]
    }
   ],
   "source": [
    "no_words=2+1  # Length of each sequence\n",
    "seq=[' '.join(tokens[i-no_words:i]) for i in range(no_words, len(tokens))]\n",
    "print('Total Seq: %d' % len(seq))"
   ]
  },
  {
   "cell_type": "code",
   "execution_count": null,
   "metadata": {},
   "outputs": [],
   "source": [
    "unique_sequences=set(seq)\n",
    "print('Unique Sequences: %d' % len(unique_sequences))"
   ]
  },
  {
   "cell_type": "code",
   "execution_count": null,
   "metadata": {},
   "outputs": [],
   "source": [
    "# save tokens \n",
    "def save_file(lines, filename):\n",
    "\tdata='\\n'.join(lines)\n",
    "\tfile=open(filename,'w', encoding='utf8')\n",
    "\tfile.write(data)\n",
    "\tfile.close()"
   ]
  },
  {
   "cell_type": "code",
   "execution_count": 19,
   "metadata": {},
   "outputs": [],
   "source": [
    "# save sequences\n",
    "out_file=r'Bigram_data_2_1.txt'\n",
    "save_file(seq,out_file)"
   ]
  }
 ],
 "metadata": {
  "kernelspec": {
   "display_name": "Python 3",
   "language": "python",
   "name": "python3"
  },
  "language_info": {
   "codemirror_mode": {
    "name": "ipython",
    "version": 3
   },
   "file_extension": ".py",
   "mimetype": "text/x-python",
   "name": "python",
   "nbconvert_exporter": "python",
   "pygments_lexer": "ipython3",
   "version": "3.10.9"
  }
 },
 "nbformat": 4,
 "nbformat_minor": 2
}
