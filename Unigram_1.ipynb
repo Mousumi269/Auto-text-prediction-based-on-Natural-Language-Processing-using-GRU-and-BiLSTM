{
 "cells": [
  {
   "cell_type": "code",
   "execution_count": 1,
   "metadata": {
    "colab": {},
    "colab_type": "code",
    "id": "Vw6JbDYwrIKN"
   },
   "outputs": [
    {
     "name": "stdout",
     "output_type": "stream",
     "text": [
      "WARNING:tensorflow:From c:\\ProgramData\\anaconda3\\lib\\site-packages\\keras\\src\\losses.py:2976: The name tf.losses.sparse_softmax_cross_entropy is deprecated. Please use tf.compat.v1.losses.sparse_softmax_cross_entropy instead.\n",
      "\n"
     ]
    }
   ],
   "source": [
    "from numpy import array\n",
    "from keras.callbacks import CSVLogger\n",
    "import numpy as np\n",
    "from pickle import dump\n",
    "from keras.preprocessing.text import Tokenizer\n",
    "from keras.utils import to_categorical\n",
    "from keras.models import Sequential\n",
    "from keras.layers import Dense\n",
    "from keras.layers import Bidirectional\n",
    "from keras.layers import LSTM\n",
    "from keras.layers import Dropout\n",
    "from keras.layers import GRU\n",
    "from keras.layers import Embedding\n",
    "import io"
   ]
  },
  {
   "cell_type": "code",
   "execution_count": 45,
   "metadata": {
    "colab": {},
    "colab_type": "code",
    "id": "uCJlgnr4rIKT"
   },
   "outputs": [],
   "source": [
    "# load into memory\n",
    "def load_file(filename):\n",
    "    with io.open(filename, 'r', encoding='utf8') as f:\n",
    "        text=f.read()\n",
    "    return text\n",
    "in_filename = r'Unigram_data_1_1.txt'\n",
    "dataset=load_file(in_filename)\n",
    "Data_lines=dataset.split('\\n')"
   ]
  },
  {
   "cell_type": "code",
   "execution_count": 6,
   "metadata": {
    "colab": {
     "base_uri": "https://localhost:8080/",
     "height": 1000
    },
    "colab_type": "code",
    "id": "dH9Vvpa8rIKW",
    "outputId": "0cd7bf1f-d410-4514-cf4f-186f70672237"
   },
   "outputs": [
    {
     "ename": "NameError",
     "evalue": "name 'Data_lines' is not defined",
     "output_type": "error",
     "traceback": [
      "\u001b[1;31m---------------------------------------------------------------------------\u001b[0m",
      "\u001b[1;31mNameError\u001b[0m                                 Traceback (most recent call last)",
      "Cell \u001b[1;32mIn[6], line 1\u001b[0m\n\u001b[1;32m----> 1\u001b[0m \u001b[43mData_lines\u001b[49m\n",
      "\u001b[1;31mNameError\u001b[0m: name 'Data_lines' is not defined"
     ]
    }
   ],
   "source": [
    "Data_lines"
   ]
  },
  {
   "cell_type": "code",
   "execution_count": 47,
   "metadata": {
    "colab": {},
    "colab_type": "code",
    "id": "2tVfRJflrIKZ"
   },
   "outputs": [
    {
     "data": {
      "text/plain": [
       "19939"
      ]
     },
     "execution_count": 47,
     "metadata": {},
     "output_type": "execute_result"
    }
   ],
   "source": [
    "# integer encode sequences of words\n",
    "token = Tokenizer()\n",
    "token.fit_on_texts(Data_lines) \n",
    "seq=token.texts_to_sequences(Data_lines)\n",
    "word_size=len(token.word_index)+1\n",
    "word_size"
   ]
  },
  {
   "cell_type": "code",
   "execution_count": 48,
   "metadata": {
    "colab": {},
    "colab_type": "code",
    "id": "IRIIUXvorIKg"
   },
   "outputs": [],
   "source": [
    "length = 2"
   ]
  },
  {
   "cell_type": "code",
   "execution_count": 5,
   "metadata": {
    "colab": {
     "base_uri": "https://localhost:8080/",
     "height": 51
    },
    "colab_type": "code",
    "id": "4Qq6ABCqrIKm",
    "outputId": "9bcb3d61-856e-48fc-88e7-abbee0349a43"
   },
   "outputs": [
    {
     "ename": "NameError",
     "evalue": "name 'seq' is not defined",
     "output_type": "error",
     "traceback": [
      "\u001b[1;31m---------------------------------------------------------------------------\u001b[0m",
      "\u001b[1;31mNameError\u001b[0m                                 Traceback (most recent call last)",
      "Cell \u001b[1;32mIn[5], line 1\u001b[0m\n\u001b[1;32m----> 1\u001b[0m seq \u001b[38;5;241m=\u001b[39m array(\u001b[43mseq\u001b[49m, dtype\u001b[38;5;241m=\u001b[39m\u001b[38;5;28mobject\u001b[39m)\u001b[38;5;66;03m#benefits like better performance r numerical computations, diiferent type data array krbe integer float mix kre\u001b[39;00m\n\u001b[0;32m      2\u001b[0m seq\n",
      "\u001b[1;31mNameError\u001b[0m: name 'seq' is not defined"
     ]
    }
   ],
   "source": [
    "seq=array(seq, dtype=object)\n",
    "seq"
   ]
  },
  {
   "cell_type": "code",
   "execution_count": 4,
   "metadata": {
    "colab": {
     "base_uri": "https://localhost:8080/",
     "height": 1000
    },
    "colab_type": "code",
    "id": "IHcaPTnHrIKp",
    "outputId": "8e222e84-ab07-4d10-f77f-43996827275c"
   },
   "outputs": [
    {
     "ename": "NameError",
     "evalue": "name 'seq' is not defined",
     "output_type": "error",
     "traceback": [
      "\u001b[1;31m---------------------------------------------------------------------------\u001b[0m",
      "\u001b[1;31mNameError\u001b[0m                                 Traceback (most recent call last)",
      "Cell \u001b[1;32mIn[4], line 4\u001b[0m\n\u001b[0;32m      2\u001b[0m h\u001b[38;5;241m=\u001b[39m\u001b[38;5;241m0\u001b[39m\n\u001b[0;32m      3\u001b[0m \u001b[38;5;28;01mwhile\u001b[39;00m(a\u001b[38;5;241m!=\u001b[39m\u001b[38;5;241m0\u001b[39m):\n\u001b[1;32m----> 4\u001b[0m     limit \u001b[38;5;241m=\u001b[39m \u001b[43mseq\u001b[49m\u001b[38;5;241m.\u001b[39msize\n\u001b[0;32m      5\u001b[0m     d \u001b[38;5;241m=\u001b[39m[]\n\u001b[0;32m      6\u001b[0m     a\u001b[38;5;241m=\u001b[39m\u001b[38;5;241m0\u001b[39m\n",
      "\u001b[1;31mNameError\u001b[0m: name 'seq' is not defined"
     ]
    }
   ],
   "source": [
    "a=1\n",
    "h=0\n",
    "while(a!=0):\n",
    "    limit=seq.size\n",
    "    d =[]\n",
    "    a=0\n",
    "    for i in range(0 , limit):\n",
    "        l=len(seq[i])\n",
    "        if(l!=length):\n",
    "            print(seq[i])\n",
    "            seq = np.delete(seq, i, 0)\n",
    "            \n",
    "            a=1\n",
    "            print(\"error in \", i)\n",
    "            print(\"Deleting\") \n",
    "            h = h+1\n",
    "            break        \n",
    "print(\"Total : \", h)     "
   ]
  },
  {
   "cell_type": "code",
   "execution_count": 3,
   "metadata": {
    "colab": {
     "base_uri": "https://localhost:8080/",
     "height": 136
    },
    "colab_type": "code",
    "id": "jOmJzMZsrIKw",
    "outputId": "eb0b4a54-8fe5-49ee-81c0-0332e49234be"
   },
   "outputs": [
    {
     "ename": "NameError",
     "evalue": "name 'seq' is not defined",
     "output_type": "error",
     "traceback": [
      "\u001b[1;31m---------------------------------------------------------------------------\u001b[0m",
      "\u001b[1;31mNameError\u001b[0m                                 Traceback (most recent call last)",
      "Cell \u001b[1;32mIn[3], line 1\u001b[0m\n\u001b[1;32m----> 1\u001b[0m seq \u001b[38;5;241m=\u001b[39m np\u001b[38;5;241m.\u001b[39marray(\u001b[43mseq\u001b[49m\u001b[38;5;241m.\u001b[39mtolist())\u001b[38;5;66;03m#Each inner list in the resulting list corresponds to a row in the original array.\u001b[39;00m\n\u001b[0;32m      2\u001b[0m seq\n",
      "\u001b[1;31mNameError\u001b[0m: name 'seq' is not defined"
     ]
    }
   ],
   "source": [
    "seq=np.array(seq.tolist())\n",
    "seq "
   ]
  },
  {
   "cell_type": "code",
   "execution_count": 52,
   "metadata": {
    "colab": {
     "base_uri": "https://localhost:8080/",
     "height": 34
    },
    "colab_type": "code",
    "id": "iB6l0xxtrIK0",
    "outputId": "58ddb17e-69c6-420a-8191-3c4123af4f47"
   },
   "outputs": [
    {
     "data": {
      "text/plain": [
       "(281264, 2)"
      ]
     },
     "execution_count": 52,
     "metadata": {},
     "output_type": "execute_result"
    }
   ],
   "source": [
    "seq.shape "
   ]
  },
  {
   "cell_type": "code",
   "execution_count": 15,
   "metadata": {
    "colab": {},
    "colab_type": "code",
    "id": "1XXqrNcDrIK3"
   },
   "outputs": [
    {
     "ename": "MemoryError",
     "evalue": "Unable to allocate 20.9 GiB for an array with shape (281264, 19939) and data type float32",
     "output_type": "error",
     "traceback": [
      "\u001b[1;31m---------------------------------------------------------------------------\u001b[0m",
      "\u001b[1;31mMemoryError\u001b[0m                               Traceback (most recent call last)",
      "Cell \u001b[1;32mIn[15], line 4\u001b[0m\n\u001b[0;32m      2\u001b[0m sequences \u001b[38;5;241m=\u001b[39m array(sequences)\n\u001b[0;32m      3\u001b[0m X, y \u001b[38;5;241m=\u001b[39m sequences[:,:\u001b[38;5;241m-\u001b[39m\u001b[38;5;241m1\u001b[39m], sequences[:,\u001b[38;5;241m-\u001b[39m\u001b[38;5;241m1\u001b[39m]\n\u001b[1;32m----> 4\u001b[0m y \u001b[38;5;241m=\u001b[39m \u001b[43mto_categorical\u001b[49m\u001b[43m(\u001b[49m\u001b[43my\u001b[49m\u001b[43m,\u001b[49m\u001b[43m \u001b[49m\u001b[43mnum_classes\u001b[49m\u001b[38;5;241;43m=\u001b[39;49m\u001b[43mvocab_size\u001b[49m\u001b[43m)\u001b[49m\n\u001b[0;32m      5\u001b[0m seq_length \u001b[38;5;241m=\u001b[39m X\u001b[38;5;241m.\u001b[39mshape[\u001b[38;5;241m1\u001b[39m]\n",
      "File \u001b[1;32mc:\\ProgramData\\anaconda3\\lib\\site-packages\\keras\\src\\utils\\np_utils.py:73\u001b[0m, in \u001b[0;36mto_categorical\u001b[1;34m(y, num_classes, dtype)\u001b[0m\n\u001b[0;32m     71\u001b[0m     num_classes \u001b[38;5;241m=\u001b[39m np\u001b[38;5;241m.\u001b[39mmax(y) \u001b[38;5;241m+\u001b[39m \u001b[38;5;241m1\u001b[39m\n\u001b[0;32m     72\u001b[0m n \u001b[38;5;241m=\u001b[39m y\u001b[38;5;241m.\u001b[39mshape[\u001b[38;5;241m0\u001b[39m]\n\u001b[1;32m---> 73\u001b[0m categorical \u001b[38;5;241m=\u001b[39m \u001b[43mnp\u001b[49m\u001b[38;5;241;43m.\u001b[39;49m\u001b[43mzeros\u001b[49m\u001b[43m(\u001b[49m\u001b[43m(\u001b[49m\u001b[43mn\u001b[49m\u001b[43m,\u001b[49m\u001b[43m \u001b[49m\u001b[43mnum_classes\u001b[49m\u001b[43m)\u001b[49m\u001b[43m,\u001b[49m\u001b[43m \u001b[49m\u001b[43mdtype\u001b[49m\u001b[38;5;241;43m=\u001b[39;49m\u001b[43mdtype\u001b[49m\u001b[43m)\u001b[49m\n\u001b[0;32m     74\u001b[0m categorical[np\u001b[38;5;241m.\u001b[39marange(n), y] \u001b[38;5;241m=\u001b[39m \u001b[38;5;241m1\u001b[39m\n\u001b[0;32m     75\u001b[0m output_shape \u001b[38;5;241m=\u001b[39m input_shape \u001b[38;5;241m+\u001b[39m (num_classes,)\n",
      "\u001b[1;31mMemoryError\u001b[0m: Unable to allocate 20.9 GiB for an array with shape (281264, 19939) and data type float32"
     ]
    }
   ],
   "source": [
    "# separate into input and output\n",
    "seq = array(seq)\n",
    "X, y = seq[:,:-1], seq[:,-1]\n",
    "y = to_categorical(y, num_classes=word_size)\n",
    "seq_len = X.shape[1]"
   ]
  },
  {
   "cell_type": "code",
   "execution_count": 2,
   "metadata": {
    "colab": {
     "base_uri": "https://localhost:8080/",
     "height": 1000
    },
    "colab_type": "code",
    "id": "U2EOacdCrIK8",
    "outputId": "32e59a06-0f26-47d0-e42e-cd76e42d7585"
   },
   "outputs": [
    {
     "name": "stdout",
     "output_type": "stream",
     "text": [
      "WARNING:tensorflow:From c:\\ProgramData\\anaconda3\\lib\\site-packages\\keras\\src\\backend.py:873: The name tf.get_default_graph is deprecated. Please use tf.compat.v1.get_default_graph instead.\n",
      "\n"
     ]
    },
    {
     "ename": "NameError",
     "evalue": "name 'word_size' is not defined",
     "output_type": "error",
     "traceback": [
      "\u001b[1;31m---------------------------------------------------------------------------\u001b[0m",
      "\u001b[1;31mNameError\u001b[0m                                 Traceback (most recent call last)",
      "Cell \u001b[1;32mIn[2], line 12\u001b[0m\n\u001b[0;32m     10\u001b[0m \u001b[38;5;66;03m# Define model\u001b[39;00m\n\u001b[0;32m     11\u001b[0m model \u001b[38;5;241m=\u001b[39m Sequential()\n\u001b[1;32m---> 12\u001b[0m model\u001b[38;5;241m.\u001b[39madd(Embedding(\u001b[43mword_size\u001b[49m, \u001b[38;5;241m100\u001b[39m, input_length\u001b[38;5;241m=\u001b[39mseq_len))\u001b[38;5;66;03m#converting integer-encoded words into dense vectors of fixed size \u001b[39;00m\n\u001b[0;32m     13\u001b[0m model\u001b[38;5;241m.\u001b[39madd(Bidirectional(LSTM(\u001b[38;5;241m100\u001b[39m, return_sequences\u001b[38;5;241m=\u001b[39m\u001b[38;5;28;01mTrue\u001b[39;00m)))\n\u001b[0;32m     14\u001b[0m model\u001b[38;5;241m.\u001b[39madd(GRU(\u001b[38;5;241m256\u001b[39m, return_sequences\u001b[38;5;241m=\u001b[39m\u001b[38;5;28;01mTrue\u001b[39;00m))\n",
      "\u001b[1;31mNameError\u001b[0m: name 'word_size' is not defined"
     ]
    }
   ],
   "source": [
    "# Define data generator\n",
    "def data_generator(X_data, y_data, batch_size):\n",
    "    num_batches = len(X_data) // batch_size\n",
    "    while True:\n",
    "        for i in range(num_batches):\n",
    "            start_idx=i*batch_size\n",
    "            end_idx=(i+1)*batch_size\n",
    "            yield X_data[start_idx:end_idx], y_data[start_idx:end_idx]\n",
    "\n",
    "# Define model\n",
    "model = Sequential()\n",
    "model.add(Embedding(word_size, 100, input_length=seq_len))\n",
    "model.add(Bidirectional(LSTM(100, return_sequences=True)))\n",
    "model.add(GRU(256, return_sequences=True))\n",
    "model.add(Dropout(0.1))\n",
    "model.add(GRU(256))\n",
    "model.add(Dense(256, activation='relu'))\n",
    "model.add(Dense(word_size, activation='softmax')) \n",
    "print(model.summary())\n",
    "model.compile(loss='categorical_crossentropy', optimizer='adam', metrics=['accuracy'])\n",
    "csv_logger=CSVLogger('data_1_1.log')\n",
    "batch_size=128\n",
    "epochs=150\n",
    "train_generator=data_generator(X,y,batch_size)\n",
    "history=model.fit(train_generator,steps_per_epoch=len(X) // batch_size, epochs=epochs, callbacks=[csv_logger])"
   ]
  },
  {
   "cell_type": "code",
   "execution_count": 83,
   "metadata": {
    "colab": {},
    "colab_type": "code",
    "id": "jXqtG4amrIK_"
   },
   "outputs": [],
   "source": [
    "# save the model to file\n",
    "model.save(r'model_1_1.h5') \n",
    "dump(token, open(r'token_1_1.pkl', 'wb'))"
   ]
  },
  {
   "cell_type": "code",
   "execution_count": null,
   "metadata": {},
   "outputs": [],
   "source": [
    "# draw graph\n",
    "from matplotlib import pyplot\n",
    "pyplot.plot(history.history['loss'])\n",
    "pyplot.plot(history.history['accuracy'])\n",
    "pyplot.title('model loss and accuracy ')\n",
    "pyplot.xlabel('epoch')\n",
    "pyplot.legend(['loss', 'accuracy'], loc='upper right')\n",
    "pyplot.show()"
   ]
  }
 ],
 "metadata": {
  "accelerator": "GPU",
  "colab": {
   "name": "Version_Three_Thesis work_Part_TWO_1-1.ipynb",
   "provenance": [],
   "version": "0.3.2"
  },
  "kernelspec": {
   "display_name": "Python 3",
   "language": "python",
   "name": "python3"
  },
  "language_info": {
   "codemirror_mode": {
    "name": "ipython",
    "version": 3
   },
   "file_extension": ".py",
   "mimetype": "text/x-python",
   "name": "python",
   "nbconvert_exporter": "python",
   "pygments_lexer": "ipython3",
   "version": "3.10.9"
  }
 },
 "nbformat": 4,
 "nbformat_minor": 1
}
